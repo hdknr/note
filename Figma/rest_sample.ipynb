{
 "cells": [
  {
   "cell_type": "code",
   "execution_count": 1,
   "id": "bbe013fd-ad7d-4b75-8d65-808ecb8fb66a",
   "metadata": {},
   "outputs": [],
   "source": [
    "TEMP = \"temp\""
   ]
  },
  {
   "cell_type": "code",
   "execution_count": 2,
   "id": "ed467123-b03d-41e5-8a16-137bb5ef5d68",
   "metadata": {},
   "outputs": [],
   "source": [
    "import os"
   ]
  },
  {
   "cell_type": "code",
   "execution_count": 3,
   "id": "3361e5bc-d250-45f4-8e7f-6166e9946be5",
   "metadata": {},
   "outputs": [],
   "source": [
    "os.makedirs(TEMP, exist_ok=True)"
   ]
  },
  {
   "cell_type": "code",
   "execution_count": 4,
   "id": "9f3a90fa-0c0b-475d-a61a-4d5f1412a963",
   "metadata": {},
   "outputs": [
    {
     "data": {
      "text/plain": [
       "True"
      ]
     },
     "execution_count": 4,
     "metadata": {},
     "output_type": "execute_result"
    }
   ],
   "source": [
    "from dotenv import load_dotenv\n",
    "load_dotenv()"
   ]
  },
  {
   "cell_type": "code",
   "execution_count": 5,
   "id": "9a4b8b3b-e01f-48f1-afd7-3d7eae651a32",
   "metadata": {},
   "outputs": [],
   "source": [
    "api_token = os.getenv(\"TOKEN\")\n",
    "file_key = os.getenv(\"FILE_KEY\")"
   ]
  },
  {
   "cell_type": "code",
   "execution_count": 6,
   "id": "94385ddb-742d-47d9-b681-a6a7c2a9e3dc",
   "metadata": {},
   "outputs": [],
   "source": [
    "headers = {\n",
    "    'X-Figma-Token': api_token\n",
    "}"
   ]
  },
  {
   "cell_type": "code",
   "execution_count": 7,
   "id": "c23d39a7-3123-4797-9959-d03e5087377d",
   "metadata": {},
   "outputs": [],
   "source": [
    "import requests\n",
    "import json"
   ]
  },
  {
   "cell_type": "markdown",
   "id": "3fb44786-26ef-41a0-b0d5-cc184076de94",
   "metadata": {},
   "source": [
    "## ファイル"
   ]
  },
  {
   "cell_type": "code",
   "execution_count": 8,
   "id": "1ec394cb-5782-4893-992f-7363731ea4aa",
   "metadata": {},
   "outputs": [],
   "source": [
    "url = f'https://api.figma.com/v1/files/{file_key}'\n",
    "\n",
    "response = requests.get(url, headers=headers)\n",
    "\n",
    "\n",
    "with open(f\"{TEMP}/out.json\", \"w\") as out:\n",
    "    json.dump(response.json(), out, indent=2, ensure_ascii=False)"
   ]
  },
  {
   "cell_type": "markdown",
   "id": "0a2721c6-63f2-4d55-827e-698480ea584b",
   "metadata": {},
   "source": [
    "## イメージ"
   ]
  },
  {
   "cell_type": "code",
   "execution_count": 11,
   "id": "2e67f2f1-780a-4d79-bb36-642045cfa16f",
   "metadata": {},
   "outputs": [],
   "source": [
    "imageRef = \"d0d267991637b9bb22d7eca8db37ffd13a0ffe12\""
   ]
  },
  {
   "cell_type": "code",
   "execution_count": 12,
   "id": "bcda8a8a-e201-49b1-9446-5a012ff7a552",
   "metadata": {},
   "outputs": [],
   "source": [
    "url = f'https://api.figma.com/v1/files/{file_key}/images'\n"
   ]
  },
  {
   "cell_type": "code",
   "execution_count": 13,
   "id": "7c416a61-a84e-4141-bb30-b16dc6f07fec",
   "metadata": {},
   "outputs": [],
   "source": [
    "response = requests.get(url, headers=headers)"
   ]
  },
  {
   "cell_type": "code",
   "execution_count": 14,
   "id": "e18b32d8-0a48-4790-b1de-a4692ed765d6",
   "metadata": {},
   "outputs": [
    {
     "data": {
      "text/plain": [
       "404"
      ]
     },
     "execution_count": 14,
     "metadata": {},
     "output_type": "execute_result"
    }
   ],
   "source": [
    "response.status_code"
   ]
  },
  {
   "cell_type": "code",
   "execution_count": 15,
   "id": "f4573d02-5505-44aa-be10-1a9c021cf9a5",
   "metadata": {},
   "outputs": [
    {
     "ename": "KeyError",
     "evalue": "'meta'",
     "output_type": "error",
     "traceback": [
      "\u001b[0;31m---------------------------------------------------------------------------\u001b[0m",
      "\u001b[0;31mKeyError\u001b[0m                                  Traceback (most recent call last)",
      "Cell \u001b[0;32mIn[15], line 1\u001b[0m\n\u001b[0;32m----> 1\u001b[0m imageUrl \u001b[38;5;241m=\u001b[39m \u001b[43mresponse\u001b[49m\u001b[38;5;241;43m.\u001b[39;49m\u001b[43mjson\u001b[49m\u001b[43m(\u001b[49m\u001b[43m)\u001b[49m\u001b[43m[\u001b[49m\u001b[38;5;124;43m\"\u001b[39;49m\u001b[38;5;124;43mmeta\u001b[39;49m\u001b[38;5;124;43m\"\u001b[39;49m\u001b[43m]\u001b[49m[\u001b[38;5;124m\"\u001b[39m\u001b[38;5;124mimages\u001b[39m\u001b[38;5;124m\"\u001b[39m][imageRef]\n",
      "\u001b[0;31mKeyError\u001b[0m: 'meta'"
     ]
    }
   ],
   "source": [
    "imageUrl = response.json()[\"meta\"][\"images\"][imageRef]"
   ]
  },
  {
   "cell_type": "code",
   "execution_count": 15,
   "id": "8c66210b-e653-413d-84dd-0a495ed680de",
   "metadata": {},
   "outputs": [
    {
     "data": {
      "text/plain": [
       "'https://s3-alpha-sig.figma.com/img/d0d2/6799/1637b9bb22d7eca8db37ffd13a0ffe12?Expires=1726444800&Key-Pair-Id=APKAQ4GOSFWCVNEHN3O4&Signature=A1cN4EfdJUbgBebCgE7dmL0vCbAoY42bNcG8FUgcWhUFczflSTDQ5KZQDZtuZgsA-n-q7mlvk39uTR8kh9UL~kDG1D3g3NtQdIVCu1MOJIjF~tYeuxc7W4u4vNMsNx2pvA903ASI~YAZIiEfs4TB81WO7SXj7rZL9FIfgvTglJd96eFgcqH849l~~gGlLVzY7rKRW-cBxB3RAJoHvEKb7rrDmPFwjaxT~-ENKCAhy57p8U~yeky1Ljls1aK8vxecF53KRR7D~-HW0s40WTFb74EKmHVjKLPN8mzQ5N0mBQa9gnFso9k1y0q93nzle1rt5iwACyw4sLXEYA9de0Bt9A__'"
      ]
     },
     "execution_count": 15,
     "metadata": {},
     "output_type": "execute_result"
    }
   ],
   "source": [
    "imageUrl"
   ]
  },
  {
   "cell_type": "code",
   "execution_count": 16,
   "id": "54c99ed5-962a-499e-8038-b9711c07598d",
   "metadata": {},
   "outputs": [],
   "source": [
    "response = requests.get(imageUrl)"
   ]
  },
  {
   "cell_type": "code",
   "execution_count": 17,
   "id": "e8decd09-e643-4952-bb8e-a422def70a15",
   "metadata": {},
   "outputs": [
    {
     "data": {
      "text/plain": [
       "{'Content-Type': 'image/png', 'Content-Length': '3086103', 'Connection': 'keep-alive', 'Date': 'Thu, 05 Sep 2024 05:25:13 GMT', 'x-amz-replication-status': 'COMPLETED', 'Last-Modified': 'Tue, 14 Jul 2020 12:26:34 GMT', 'ETag': '\"eec55680d3a47ab66b26c58b37173ab0\"', 'x-amz-storage-class': 'INTELLIGENT_TIERING', 'x-amz-server-side-encryption': 'AES256', 'Cache-Control': 'private, max-age=31536000', 'x-amz-version-id': 'XLPNEN4Kk_eejaKwmVn.qfXg1fJJQjyY', 'Accept-Ranges': 'bytes', 'Server': 'AmazonS3', 'Content-Security-Policy': \"default-src 'none'; sandbox;\", 'Referrer-Policy': 'same-origin', 'X-Cache': 'Miss from cloudfront', 'Via': '1.1 6384bc0279e53f33ed2c6d16ae49a04c.cloudfront.net (CloudFront)', 'X-Amz-Cf-Pop': 'NRT51-C1', 'Alt-Svc': 'h3=\":443\"; ma=86400', 'X-Amz-Cf-Id': 'yfsndkhgeu3jNwFE3qLuzEEpABKd0T3DmIQEvMg7i61DVZxWqUl6MA==', 'Vary': 'Origin'}"
      ]
     },
     "execution_count": 17,
     "metadata": {},
     "output_type": "execute_result"
    }
   ],
   "source": [
    "response.headers"
   ]
  },
  {
   "cell_type": "code",
   "execution_count": 18,
   "id": "62fd1263-707f-4a1e-bb2b-7a69b922817d",
   "metadata": {},
   "outputs": [],
   "source": [
    "import mimetypes"
   ]
  },
  {
   "cell_type": "code",
   "execution_count": 19,
   "id": "d59101ee-85a6-45a9-af63-b575cb45faf7",
   "metadata": {},
   "outputs": [],
   "source": [
    "ext = mimetypes.guess_extension(response.headers[\"Content-Type\"])\n"
   ]
  },
  {
   "cell_type": "code",
   "execution_count": 20,
   "id": "e0b6ef42-31e5-4e96-915b-b9c51e49ff42",
   "metadata": {},
   "outputs": [],
   "source": [
    "if response.status_code == 200:\n",
    "    with open(f\"{imageRef}{ext}\", 'wb') as f:\n",
    "        f.write(response.content)"
   ]
  },
  {
   "cell_type": "code",
   "execution_count": null,
   "id": "519e3cc8-df90-4a74-b603-6c241c2ba506",
   "metadata": {},
   "outputs": [],
   "source": []
  },
  {
   "cell_type": "code",
   "execution_count": null,
   "id": "6df0bf13-6685-48a0-80bf-9d147b8595b5",
   "metadata": {},
   "outputs": [],
   "source": []
  }
 ],
 "metadata": {
  "kernelspec": {
   "display_name": "Python 3 (ipykernel)",
   "language": "python",
   "name": "python3"
  },
  "language_info": {
   "codemirror_mode": {
    "name": "ipython",
    "version": 3
   },
   "file_extension": ".py",
   "mimetype": "text/x-python",
   "name": "python",
   "nbconvert_exporter": "python",
   "pygments_lexer": "ipython3",
   "version": "3.12.3"
  }
 },
 "nbformat": 4,
 "nbformat_minor": 5
}
